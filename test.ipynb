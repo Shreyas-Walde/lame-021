{
 "cells": [
  {
   "cell_type": "code",
   "execution_count": 1,
   "id": "c8edaba1",
   "metadata": {},
   "outputs": [
    {
     "name": "stdout",
     "output_type": "stream",
     "text": [
      "0 Mary\n",
      "1 had\n",
      "2 a\n",
      "3 little\n",
      "4 lamb\n"
     ]
    }
   ],
   "source": [
    "a = ['Mary', 'had', 'a', 'little', 'lamb']\n",
    "for i in range(len(a)):\n",
    "    print(i,a[i])\n",
    "\n"
   ]
  },
  {
   "cell_type": "code",
   "execution_count": 2,
   "id": "5d5e9c52",
   "metadata": {},
   "outputs": [
    {
     "name": "stdout",
     "output_type": "stream",
     "text": [
      "0 tic\n",
      "1 tac\n",
      "2 toe\n"
     ]
    }
   ],
   "source": [
    "for i, v in enumerate(['tic', 'tac', 'toe']):\n",
    "    print(i, v)"
   ]
  },
  {
   "cell_type": "code",
   "execution_count": null,
   "id": "4e78eebf",
   "metadata": {},
   "outputs": [],
   "source": [
    "knights = {'gallahad': 'the pure', 'robin': 'the brave'}\n",
    "for k, v in knights.items():\n",
    "    print(k, v)"
   ]
  },
  {
   "cell_type": "code",
   "execution_count": 3,
   "id": "12cf80da",
   "metadata": {},
   "outputs": [
    {
     "name": "stdout",
     "output_type": "stream",
     "text": [
      "Character at position 0: P\n",
      "Character at position 1: y\n",
      "Character at position 2: t\n",
      "Character at position 3: h\n",
      "Character at position 4: o\n",
      "Character at position 5: n\n"
     ]
    }
   ],
   "source": [
    "for i, char in enumerate(\"Python\"):\n",
    "    print(f\"Character at position {i}: {char}\")"
   ]
  },
  {
   "cell_type": "code",
   "execution_count": 6,
   "id": "8980d20b",
   "metadata": {},
   "outputs": [
    {
     "name": "stdout",
     "output_type": "stream",
     "text": [
      "0, H\n",
      "1, e\n",
      "2, l\n",
      "3, o\n",
      "4, ,\n",
      "5,  \n",
      "6, x\n",
      "7, i\n",
      "8, n\n",
      "9, c\n",
      "10, h\n",
      "11, a\n",
      "12, o\n",
      "13, !\n"
     ]
    }
   ],
   "source": [
    "for i, char in enumerate(\"Helo, xinchao!\"):\n",
    "    print(f\"{i}, {char}\")"
   ]
  },
  {
   "cell_type": "code",
   "execution_count": 8,
   "id": "da39e844",
   "metadata": {},
   "outputs": [
    {
     "name": "stdout",
     "output_type": "stream",
     "text": [
      "['1: apple', '2: banana', '3: cherry']\n"
     ]
    }
   ],
   "source": [
    "fruits = ['apple', 'banana', 'cherry']\n",
    "indexed_fruits = [f\"{i+1}: {fruit}\" for i, fruit in enumerate(fruits)]\n",
    "print(indexed_fruits)"
   ]
  },
  {
   "cell_type": "code",
   "execution_count": 31,
   "id": "3532bd9c",
   "metadata": {},
   "outputs": [
    {
     "data": {
      "text/plain": [
       "[4, 6, 8, 10, 12, 14, 16, 18, 20]"
      ]
     },
     "execution_count": 31,
     "metadata": {},
     "output_type": "execute_result"
    }
   ],
   "source": [
    "[x*2 for x in range(2,11)]"
   ]
  },
  {
   "cell_type": "code",
   "execution_count": 33,
   "id": "b9bbe036",
   "metadata": {},
   "outputs": [
    {
     "data": {
      "text/plain": [
       "45"
      ]
     },
     "execution_count": 33,
     "metadata": {},
     "output_type": "execute_result"
    }
   ],
   "source": [
    "sum(range(10))"
   ]
  },
  {
   "cell_type": "code",
   "execution_count": 34,
   "id": "a6c565bd",
   "metadata": {},
   "outputs": [
    {
     "name": "stdout",
     "output_type": "stream",
     "text": [
      "4 equals 2 * 2\n",
      "6 equals 2 * 3\n",
      "8 equals 2 * 4\n",
      "9 equals 3 * 3\n"
     ]
    }
   ],
   "source": [
    "for n in range(2, 10):\n",
    "    for x in range(2, n):\n",
    "        if n % x == 0:\n",
    "            print(f\"{n} equals {x} * {n//x}\")\n",
    "            break"
   ]
  },
  {
   "cell_type": "code",
   "execution_count": null,
   "id": "15d015e8",
   "metadata": {},
   "outputs": [],
   "source": [
    "def fib(n):\n",
    "    \"\"\"print a fibonacci series less than n\"\"\"\n",
    "    a,b = 0,1\n",
    "    while a< n:\n",
    "        print(a, end=' ')\n",
    "        "
   ]
  },
  {
   "cell_type": "code",
   "execution_count": 1,
   "id": "a3605dab",
   "metadata": {},
   "outputs": [
    {
     "name": "stdout",
     "output_type": "stream",
     "text": [
      "4 equals 2 * 2\n",
      "6 equals 2 * 3\n",
      "8 equals 2 * 4\n",
      "9 equals 3 * 3\n",
      "10 equals 2 * 5\n"
     ]
    }
   ],
   "source": [
    "for n in range(2,12):\n",
    "    for x in range(2,n):\n",
    "        if n % x == 0:\n",
    "            print(f\"{n} equals {x} * {n//x}\")\n",
    "            break"
   ]
  },
  {
   "cell_type": "code",
   "execution_count": 7,
   "id": "3c909826",
   "metadata": {},
   "outputs": [
    {
     "name": "stdout",
     "output_type": "stream",
     "text": [
      "2 prime\n",
      "3 prime\n",
      "4 equals 2 * 2\n",
      "5 prime\n",
      "6 equals 2 * 3\n",
      "7 prime\n",
      "8 equals 2 * 4\n",
      "9 equals 3 * 3\n",
      "10 equals 2 * 5\n",
      "11 prime\n",
      "12 equals 2 * 6\n",
      "13 prime\n",
      "14 equals 2 * 7\n"
     ]
    }
   ],
   "source": [
    "# Prime number\n",
    "\n",
    "for n in range (2,15):\n",
    "    for x in range(2,n):\n",
    "        if n % x ==0:\n",
    "            print(n, 'equals', x , '*', n//x)\n",
    "            break\n",
    "    \n",
    "    else:\n",
    "            print(n,\"prime\")"
   ]
  },
  {
   "cell_type": "code",
   "execution_count": null,
   "id": "52a6920c",
   "metadata": {},
   "outputs": [],
   "source": []
  }
 ],
 "metadata": {
  "kernelspec": {
   "display_name": "Python 3",
   "language": "python",
   "name": "python3"
  },
  "language_info": {
   "codemirror_mode": {
    "name": "ipython",
    "version": 3
   },
   "file_extension": ".py",
   "mimetype": "text/x-python",
   "name": "python",
   "nbconvert_exporter": "python",
   "pygments_lexer": "ipython3",
   "version": "3.11.4"
  }
 },
 "nbformat": 4,
 "nbformat_minor": 5
}
